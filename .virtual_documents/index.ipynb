








import pandas as pd
df = pd.read_csv('titanic.csv', index_col=0)
df.info()





df.describe()





# Get the mean of every numeric column at once
df.mean()


# Get the mean of a specific column
df['Fare'].mean()


# Get the value for 90% quantile for a specific column
df['Age'].quantile(.9)


# Get the median value for a specific column
df['Age'].median()





df['Embarked'].unique()


df['Embarked'].value_counts()





# Quick function to convert every value in the DataFrame to a string
string_df = df.applymap(lambda x: str(x))
string_df.info()


# Let's quickly square every value in the Age column
display(df['Age'].apply(lambda x: x**2).head())

# Note that the original data in the age column has not changed
df['Age'].head()



